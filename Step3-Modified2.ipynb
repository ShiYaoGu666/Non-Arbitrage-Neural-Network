{
 "cells": [
  {
   "cell_type": "markdown",
   "metadata": {},
   "source": [
    "# Model to Solve Non-arbitrage Pricing\n",
    "\n",
    "This is a model established by the Neural Networks Group of the MATH391 course at the **University of Liverpool** for the year 2024, aimed at solving the no-arbitrage problem. The primary reference is: “Incorporating Functional Knowledge in Neural Networks.”\n",
    "|\n",
    "Author: ShiYao Gu, JieRui Li, LangMing Liang, MengLei Zhang, SiZhe Jiang, Qi Huang. \n",
    "\n",
    "Project Supervisor: Youness Boutaib, Samira Amiriyan\n",
    "\n",
    "Module Supervisor: Corina Constantinescu"
   ]
  },
  {
   "cell_type": "markdown",
   "metadata": {},
   "source": [
    "# Principle of the Model\n",
    "\n",
    "According to the artical, the model we want to implement is: \n",
    "\n",
    "$ C = C(K, T) $ (Here, we are no interest in other parameters)\n",
    "- C is the price of this call option\n",
    "- K is the strick price\n",
    "- T is the time to maturity\n",
    "\n",
    "And here, in order to insure the property of \"Non-arbitrage\", we need the following property:\n",
    "\n",
    "$f \\geq 0, \\quad \\frac{\\partial f}{\\partial x_1} \\geq 0, \\quad \\frac{\\partial f}{\\partial x_2} \\geq 0, \\quad \\frac{\\partial^2 f}{\\partial x_1^2} \\geq 0$\n",
    "\n",
    "that is: (take $-K$)\n",
    "\n",
    "$ f \\geq 0, \\quad \\frac{\\partial f}{\\partial T} \\geq 0, \\quad \\frac{\\partial f}{\\partial K} \\leq 0, \\quad \\frac{\\partial^2 f}{\\partial K^2} \\geq 0$\n",
    "\n",
    "Therefore, according to the artical: \"Incorporating Functional Knowledge in Neural Networks\". The following structure of NN will be used. \n",
    "\n",
    "$c, n \\hat{\\mathcal{N}}_{++}=\\left\\{f(x)=e^{w_0}+\\sum_{i=1}^H e^{w_i}\\left(\\prod_{j=1}^c \\zeta\\left(b_{i j}+e^{v_{i j}} x_j\\right)\\right)\\left(\\prod_{j=c+1}^n h\\left(b_{i j}+e^{v_{i j}} x_j\\right)\\right)\\right\\}$\n",
    "\n",
    "- Notice that here, we only have two parameters, that is $K,T$, thus we should take $n=2, c=1$\n",
    "\n",
    "More detailed structure is shown on the PPT.\n",
    "\n",
    "Let’s now take a look at our upcoming implementation plan:\n",
    "\n",
    "- Step01: Define the forward propagation\n",
    "\n",
    "- Step02: Import dataset\n",
    "\n",
    "- Step03: Randomly splits training and testing datasets\n",
    "\n",
    "- Step04: Optimize the model using PyTorch\n",
    "\n",
    "- Step05: Make prediction model\n"
   ]
  },
  {
   "cell_type": "markdown",
   "metadata": {},
   "source": [
    "Here's all the package we need:"
   ]
  },
  {
   "cell_type": "code",
   "execution_count": 1,
   "metadata": {},
   "outputs": [],
   "source": [
    "# pip install torch\n",
    "# pip install pandas\n",
    "# pip install openpyxl"
   ]
  },
  {
   "cell_type": "markdown",
   "metadata": {},
   "source": [
    "# Step01: Define forward propagation "
   ]
  },
  {
   "cell_type": "markdown",
   "metadata": {},
   "source": [
    "The first step we need to take is to prepare the two activation functions required for the forward propagation.\n",
    "\n",
    "- sigmoid: $h(s)=1 /\\left(1+e^{-s}\\right)$\n",
    "- softplus: $\\zeta(s)=\\ln \\left(1+e^s\\right)$"
   ]
  },
  {
   "cell_type": "code",
   "execution_count": 2,
   "metadata": {},
   "outputs": [],
   "source": [
    "import torch\n",
    "import torch.nn.functional as F\n",
    "\n",
    "def softplus(x):\n",
    "    return F.softplus(x)\n",
    "\n",
    "def sigmoid(x):\n",
    "    return torch.sigmoid(x)"
   ]
  },
  {
   "cell_type": "markdown",
   "metadata": {},
   "source": [
    "Based on the above model, we provide the implementation method for forward propagation.\n",
    "\n",
    "$c, n \\hat{\\mathcal{N}}_{++}=\\left\\{f(x)=e^{w_0}+\\sum_{i=1}^H e^{w_i}\\left(\\prod_{j=1}^c \\zeta\\left(b_{i j}+e^{v_{i j}} x_j\\right)\\right)\\left(\\prod_{j=c+1}^n h\\left(b_{i j}+e^{v_{i j}} x_j\\right)\\right)\\right\\}$\n",
    "\n",
    "This is what our parameters look like: (Pay very very much attention to deminsion)\n",
    "\n",
    "$V=\\left(\\begin{array}{cc}v_{11} & v_{12} \\\\ v_{21} & v_{22} \\\\ \\vdots &\\vdots \\\\ v_{H 1} & v_{H2}\\end{array}\\right) \\quad b=\\left(\\begin{array}{cc}b_{11} & b_{12} \\\\ b_{21} & b_{22} \\\\ \\vdots& \\vdots \\\\ b_{H1} & b_{H2}\\end{array}\\right)$\n",
    "\n",
    "$w=\\left(w, w_2, w_3, w_4 \\cdots w_H\\right)$\n",
    "\n",
    "$w_0 \\in R $"
   ]
  },
  {
   "cell_type": "code",
   "execution_count": 3,
   "metadata": {},
   "outputs": [],
   "source": [
    "def forward_propagation(V, b, w, w0, x):\n",
    "    \"\"\"\n",
    "    Perform forward propagation using PyTorch.\n",
    "    \n",
    "    Arguments:\n",
    "    V -- weight matrix for the first layer\n",
    "    b -- bias matrix for the first layer\n",
    "    w -- weight vector for the output layer\n",
    "    w0 -- bias scalar for the output layer\n",
    "    x -- input data matrix\n",
    "    \n",
    "    Returns:\n",
    "    result -- the output of the forward propagation\n",
    "    \"\"\"\n",
    "    V_first_column = V[:, 0].reshape(-1, 1)\n",
    "    V_second_column = V[:, 1].reshape(-1, 1)\n",
    "    x_first_row = x[0, :].reshape(1, -1)\n",
    "    x_second_row = x[1, :].reshape(1, -1)\n",
    "    b_first_column = b[:, 0].reshape(-1, 1)\n",
    "    b_second_column = b[:, 1].reshape(-1, 1)\n",
    "    \n",
    "    parameters_ready_to_apply_softplus = torch.mm(torch.exp(V_first_column), x_first_row) + b_first_column\n",
    "    parameters_ready_to_apply_sigmoid = torch.mm(torch.exp(V_second_column), x_second_row) + b_second_column\n",
    "    \n",
    "    after_softplus = softplus(parameters_ready_to_apply_softplus)\n",
    "    after_sigmoid = sigmoid(parameters_ready_to_apply_sigmoid)\n",
    "\n",
    "    layer1 = after_softplus * after_sigmoid\n",
    "\n",
    "    result = torch.mm(torch.exp(w).unsqueeze(0), layer1) + torch.exp(w0)\n",
    "    \n",
    "    return result"
   ]
  },
  {
   "cell_type": "markdown",
   "metadata": {},
   "source": [
    "# Define the Lost Function"
   ]
  },
  {
   "cell_type": "markdown",
   "metadata": {},
   "source": [
    "Here we just compute MSE: \n",
    "\n",
    "$ \\text{MSE} = \\frac{1}{m} \\sum_{i=1}^{m} (AL_i - y_i)^2 $"
   ]
  },
  {
   "cell_type": "code",
   "execution_count": 4,
   "metadata": {},
   "outputs": [],
   "source": [
    "def mean_squared_error(AL, Y):\n",
    "    \"\"\"\n",
    "    Calculate Mean Squared Error (MSE) using PyTorch.\n",
    "    \n",
    "    Parameters:\n",
    "    AL -- predicted values tensor\n",
    "    Y -- true labels tensor\n",
    "    \n",
    "    Returns:\n",
    "    mse -- mean squared error tensor\n",
    "    \"\"\"\n",
    "    mse = torch.mean((AL - Y) ** 2)\n",
    "    return mse"
   ]
  },
  {
   "cell_type": "markdown",
   "metadata": {},
   "source": [
    "# Step02: Import Dataset\n",
    "\n",
    "Here we have written a method for reading data.\n",
    "\n",
    "Warnings: \n",
    "- openpyxl package required\n",
    "- When using this method, please correct the path to the path of the spreadsheet on the current computer."
   ]
  },
  {
   "cell_type": "code",
   "execution_count": 5,
   "metadata": {},
   "outputs": [],
   "source": [
    "import pandas as pd\n",
    "from datetime import datetime\n",
    "\n",
    "def read_option_data(file_path, ticker, current_date):\n",
    "\n",
    "    \"\"\"\n",
    "    Reads option data from an Excel file, filters it based on the given ticker and option type 'Call',\n",
    "    calculates the days to expiration from the current_date, and returns matrices of strikes with days to expiration,\n",
    "    and stock prices.\n",
    "    \n",
    "    Parameters:\n",
    "    file_path (str): The path to the Excel file.\n",
    "    ticker (str): The ticker symbol to filter the data.\n",
    "    current_date (datetime): The current date for calculating days to expiration.\n",
    "    \n",
    "    Returns:\n",
    "    tuple: Two matrices, one for strikes and days to expiration, and one for stock prices.\n",
    "    \"\"\"\n",
    "\n",
    "    \n",
    "    # Read the Excel file\n",
    "    df = pd.read_excel(file_path)\n",
    "    \n",
    "    # Filter data for the specified ticker and for Call options\n",
    "    df_filtered = df[(df['Ticker'] == ticker) & (df['Type'] == 'Call')].copy()\n",
    "    \n",
    "    # Convert Expiration(T) to datetime\n",
    "    df_filtered['Expiration(T)'] = pd.to_datetime(df_filtered['Expiration(T)'])\n",
    "    \n",
    "    # Calculate the difference in days between Expiration(T) and current_date\n",
    "    df_filtered['Days to Expiration'] = (df_filtered['Expiration(T)'] - current_date).dt.days\n",
    "    \n",
    "    # Extract K, Days to Expiration and T columns to form one matrix\n",
    "    K_T_matrix = df_filtered[['Strike(K)', 'Days to Expiration']].values\n",
    "    \n",
    "    # Extract S column to form another matrix\n",
    "    c_matrix = df_filtered[['Last Option Price (c)']].values\n",
    "    \n",
    "    return K_T_matrix.T, c_matrix.T"
   ]
  },
  {
   "cell_type": "markdown",
   "metadata": {},
   "source": [
    "Then, we know that we should have : \n",
    "\n",
    "$ f \\geq 0, \\quad \\frac{\\partial f}{\\partial T} \\geq 0, \\quad \\frac{\\partial f}{\\partial K} \\leq 0, \\quad \\frac{\\partial^2 f}{\\partial K^2} \\geq 0$\n",
    "\n",
    "So we take $ K $ as the first element, and take $ K $ as $-K$"
   ]
  },
  {
   "cell_type": "code",
   "execution_count": 6,
   "metadata": {},
   "outputs": [],
   "source": [
    "def negate_first_row(matrix):\n",
    "    \"\"\"\n",
    "    Negates the elements of the first row of the given matrix.\n",
    "\n",
    "    Parameters:\n",
    "    matrix (numpy.ndarray): The input matrix whose first row elements will be negated.\n",
    "\n",
    "    Returns:\n",
    "    numpy.ndarray: The modified matrix with the first row elements negated.\n",
    "    \"\"\"\n",
    "    \n",
    "    # Negate the first row of the matrix\n",
    "    matrix[0] = -matrix[0]\n",
    "    \n",
    "    return matrix"
   ]
  },
  {
   "cell_type": "markdown",
   "metadata": {},
   "source": [
    "Next, we read the relevant data, but in this program, we only analyzed the data related to Apple Inc."
   ]
  },
  {
   "cell_type": "code",
   "execution_count": 7,
   "metadata": {},
   "outputs": [],
   "source": [
    "x_apple, y_apple = read_option_data('/Users/shiyaogu/Documents/Modules in UoL/MATH 391/Attempt/options_data-2.xlsx', \"AAPL\",  datetime(2024, 6, 26))\n",
    "x_tesla, y_tesla = read_option_data('/Users/shiyaogu/Documents/Modules in UoL/MATH 391/Attempt/options_data-2.xlsx', \"TSLA\",  datetime(2024, 6, 26))\n",
    "x_apple_final = torch.tensor(negate_first_row(x_apple), dtype = torch.float32)\n",
    "x_tesla_final = torch.tensor(negate_first_row(x_tesla), dtype = torch.float32)\n",
    "y_apple_final = torch.tensor(y_apple, dtype = torch.float32)\n",
    "y_tesla_final = torch.tensor(y_tesla, dtype = torch.float32)"
   ]
  },
  {
   "cell_type": "markdown",
   "metadata": {},
   "source": [
    "# Step03: Randomly splits training and testing datasets\n",
    "\n",
    "Here, we have improved the previous method of separating training data and test data. We have adopted a strategy of randomly splitting the data."
   ]
  },
  {
   "cell_type": "code",
   "execution_count": 8,
   "metadata": {},
   "outputs": [],
   "source": [
    "import torch\n",
    "\n",
    "def split_train_test(matrix1, matrix2, ratio):\n",
    "    \"\"\"\n",
    "    Randomly splits two given matrices into training and testing datasets based on a given ratio.\n",
    "    \n",
    "    Parameters:\n",
    "    matrix1 (torch.Tensor): The first input matrix.\n",
    "    matrix2 (torch.Tensor): The second input matrix.\n",
    "    ratio (float): The ratio of columns to include in the training data (0 < ratio < 1).\n",
    "    \n",
    "    Returns:\n",
    "    tuple: Four matrices: train_matrix1, test_matrix1, train_matrix2, test_matrix2\n",
    "    \"\"\"\n",
    "    # Ensure the input ratio is between 0 and 1\n",
    "    if not (0 < ratio < 1):\n",
    "        raise ValueError(\"The ratio must be a float between 0 and 1\")\n",
    "    \n",
    "    # Calculate the number of columns for training based on the ratio\n",
    "    n = int(matrix1.shape[1] * ratio)\n",
    "    \n",
    "    # Ensure the input matrices have enough columns\n",
    "    if matrix1.shape[1] < n or matrix2.shape[1] < n:\n",
    "        raise ValueError(\"The input matrices must have enough columns to split based on the ratio\")\n",
    "    \n",
    "    # Randomly shuffle the indices of columns\n",
    "    indices = torch.randperm(matrix1.shape[1])\n",
    "    train_indices = indices[:n]\n",
    "    test_indices = indices[n:]\n",
    "    \n",
    "    # Split the first matrix\n",
    "    train_matrix1 = matrix1[:, train_indices]\n",
    "    test_matrix1 = matrix1[:, test_indices]\n",
    "    \n",
    "    # Split the second matrix\n",
    "    train_matrix2 = matrix2[:, train_indices]\n",
    "    test_matrix2 = matrix2[:, test_indices]\n",
    "    \n",
    "    return train_matrix1, test_matrix1, train_matrix2, test_matrix2"
   ]
  },
  {
   "cell_type": "code",
   "execution_count": 9,
   "metadata": {},
   "outputs": [
    {
     "name": "stdout",
     "output_type": "stream",
     "text": [
      "torch.Size([2, 824])\n",
      "torch.Size([1, 824])\n"
     ]
    }
   ],
   "source": [
    "train_x_apple, test_x_apple, train_y_apple, test_y_apple = split_train_test(x_apple_final, y_apple_final, 0.9)\n",
    "train_x_tesla, test_x_tesla, train_y_tesla, test_y_tesla = split_train_test(x_tesla_final, y_tesla_final, 0.9)\n",
    "print(train_x_apple.shape)\n",
    "print(train_y_apple.shape)"
   ]
  },
  {
   "cell_type": "markdown",
   "metadata": {},
   "source": [
    "# Step04: Optimize the model using PyTorch"
   ]
  },
  {
   "cell_type": "code",
   "execution_count": 20,
   "metadata": {},
   "outputs": [
    {
     "name": "stdout",
     "output_type": "stream",
     "text": [
      "Epoch [1000/50000], Loss: 106.2878\n",
      "Epoch [2000/50000], Loss: 80.2943\n",
      "Epoch [3000/50000], Loss: 66.2550\n",
      "Epoch [4000/50000], Loss: 57.9458\n",
      "Epoch [5000/50000], Loss: 52.8492\n",
      "Epoch [6000/50000], Loss: 49.8771\n",
      "Epoch [7000/50000], Loss: 48.0298\n",
      "Epoch [8000/50000], Loss: 46.8619\n",
      "Epoch [9000/50000], Loss: 46.1316\n",
      "Epoch [10000/50000], Loss: 45.6828\n",
      "Epoch [11000/50000], Loss: 45.4108\n",
      "Epoch [12000/50000], Loss: 45.2484\n",
      "Epoch [13000/50000], Loss: 45.1515\n",
      "Epoch [14000/50000], Loss: 45.0925\n",
      "Epoch [15000/50000], Loss: 45.0561\n",
      "Epoch [16000/50000], Loss: 45.0320\n",
      "Epoch [17000/50000], Loss: 45.0174\n",
      "Epoch [18000/50000], Loss: 45.0059\n",
      "Epoch [19000/50000], Loss: 44.9985\n",
      "Epoch [20000/50000], Loss: 45.0023\n",
      "Epoch [21000/50000], Loss: 44.9895\n",
      "Epoch [22000/50000], Loss: 44.9868\n",
      "Epoch [23000/50000], Loss: 44.9847\n",
      "Epoch [24000/50000], Loss: 44.9984\n",
      "Epoch [25000/50000], Loss: 44.9818\n",
      "Epoch [26000/50000], Loss: 44.9809\n",
      "Epoch [27000/50000], Loss: 45.0294\n",
      "Epoch [28000/50000], Loss: 44.9792\n",
      "Epoch [29000/50000], Loss: 44.9786\n",
      "Epoch [30000/50000], Loss: 44.9781\n",
      "Epoch [31000/50000], Loss: 44.9778\n",
      "Epoch [32000/50000], Loss: 44.9773\n",
      "Epoch [33000/50000], Loss: 44.9770\n",
      "Epoch [34000/50000], Loss: 44.9776\n",
      "Epoch [35000/50000], Loss: 44.9765\n",
      "Epoch [36000/50000], Loss: 45.0050\n",
      "Epoch [37000/50000], Loss: 44.9760\n",
      "Epoch [38000/50000], Loss: 44.9758\n",
      "Epoch [39000/50000], Loss: 44.9756\n",
      "Epoch [40000/50000], Loss: 44.9755\n",
      "Epoch [41000/50000], Loss: 44.9753\n",
      "Epoch [42000/50000], Loss: 44.9752\n",
      "Epoch [43000/50000], Loss: 44.9751\n",
      "Epoch [44000/50000], Loss: 44.9749\n",
      "Epoch [45000/50000], Loss: 44.9748\n",
      "Epoch [46000/50000], Loss: 44.9773\n",
      "Epoch [47000/50000], Loss: 44.9746\n",
      "Epoch [48000/50000], Loss: 44.9745\n",
      "Epoch [49000/50000], Loss: 44.9770\n",
      "Epoch [50000/50000], Loss: 44.9743\n",
      "Optimization finished\n"
     ]
    }
   ],
   "source": [
    "import torch.optim as optim\n",
    "\n",
    "# Hyperparameters\n",
    "H = 10\n",
    "input_dim = 2  # Dimension of x_apple\n",
    "\n",
    "# Initialize parameters\n",
    "V = torch.randn(H, 2, requires_grad=True, dtype=torch.float32)\n",
    "b = torch.randn(H, 2, requires_grad=True, dtype=torch.float32)\n",
    "w = torch.randn(H, requires_grad=True, dtype=torch.float32)\n",
    "w0 = torch.randn(1, requires_grad=True, dtype=torch.float32)\n",
    "\n",
    "# Optimizer\n",
    "optimizer = optim.Adam([V, b, w, w0], lr=0.01)\n",
    "\n",
    "# Training loop\n",
    "num_epochs = 50000\n",
    "for epoch in range(num_epochs):\n",
    "    optimizer.zero_grad()\n",
    "    \n",
    "    # Forward propagation\n",
    "    y_pred = forward_propagation(V, b, w, w0, train_x_apple)\n",
    "    \n",
    "    # Compute loss\n",
    "    loss = mean_squared_error(y_pred, train_y_apple)\n",
    "    \n",
    "    # Backward propagation and optimization\n",
    "    loss.backward()\n",
    "    optimizer.step()\n",
    "    \n",
    "    # Print loss every 1000 iterations\n",
    "    if (epoch + 1) % 1000 == 0:\n",
    "        print(f'Epoch [{epoch + 1}/{num_epochs}], Loss: {loss.item():.4f}')\n",
    "\n",
    "print(\"Optimization finished\")\n",
    "optimal_V = V\n",
    "optimal_b = b\n",
    "optimal_w = w\n",
    "optimal_w0 = w0"
   ]
  },
  {
   "cell_type": "markdown",
   "metadata": {},
   "source": [
    "# Step05: Make prediction model\n",
    "\n",
    "Here, our method will return a model using the optimized parameters."
   ]
  },
  {
   "cell_type": "code",
   "execution_count": 11,
   "metadata": {},
   "outputs": [],
   "source": [
    "def get_predict_function(V, b, w, w0):\n",
    "    \"\"\"\n",
    "    Returns a prediction function using the learned parameters.\n",
    "\n",
    "    Parameters:\n",
    "    V (torch.Tensor): Learned parameter V.\n",
    "    b (torch.Tensor): Learned parameter b.\n",
    "    w (torch.Tensor): Learned parameter w.\n",
    "    w0 (torch.Tensor): Learned parameter w0.\n",
    "\n",
    "    Returns:\n",
    "    function: A function that takes input data x and returns predictions.\n",
    "    \"\"\"\n",
    "    def predict(x):\n",
    "        \"\"\"\n",
    "        Predict using the learned parameters.\n",
    "\n",
    "        Parameters:\n",
    "        x (torch.Tensor): Input data of shape (n_samples, 2).\n",
    "\n",
    "        Returns:\n",
    "        torch.Tensor: The predicted values.\n",
    "        \"\"\"\n",
    "        return forward_propagation(V,b,w,w0,x)\n",
    "\n",
    "    return predict"
   ]
  },
  {
   "cell_type": "code",
   "execution_count": 12,
   "metadata": {},
   "outputs": [],
   "source": [
    "final_model = get_predict_function(optimal_V, optimal_b, optimal_w, optimal_w0)"
   ]
  },
  {
   "cell_type": "code",
   "execution_count": 13,
   "metadata": {},
   "outputs": [],
   "source": [
    "y_predict = final_model(test_x_apple)"
   ]
  },
  {
   "cell_type": "code",
   "execution_count": 14,
   "metadata": {},
   "outputs": [
    {
     "name": "stdout",
     "output_type": "stream",
     "text": [
      "tensor([[1.7000e-01, 2.0000e-01, 3.7200e+00, 6.4000e-01, 6.1000e-01, 2.4400e+01,\n",
      "         9.2100e+01, 7.5550e+01, 1.1895e+02, 6.3370e+01, 1.2300e+01, 9.0000e+00,\n",
      "         9.1200e+01, 3.3250e+01, 8.8980e+01, 5.0720e+01, 1.0920e+02, 6.9900e+01,\n",
      "         1.1000e-01, 9.0050e+01, 2.0541e+02, 5.7450e+01, 9.6510e+01, 3.8550e+01,\n",
      "         1.0344e+02, 3.5950e+01, 1.1795e+02, 5.4500e+01, 6.0000e-02, 1.7000e+01,\n",
      "         1.9500e+00, 3.8400e+01, 2.3300e+00, 5.0000e-02, 7.7300e+01, 1.1000e-01,\n",
      "         1.0000e-02, 8.4000e-01, 7.8000e-01, 5.3080e+01, 1.3960e+01, 9.6900e+01,\n",
      "         5.8000e-01, 3.7390e+01, 3.0500e+00, 3.5110e+01, 1.3340e+02, 3.4000e-01,\n",
      "         7.1600e+00, 5.1920e+01, 1.0937e+02, 2.3380e+01, 1.1625e+02, 2.0000e-02,\n",
      "         2.9070e+01, 1.7516e+02, 1.5000e-01, 3.3500e+01, 1.4085e+02, 1.8000e-01,\n",
      "         8.5630e+01, 4.5250e+01, 1.8000e-01, 2.0000e-02, 4.0650e+01, 1.7100e+00,\n",
      "         6.5840e+01, 4.3350e+01, 8.9300e+01, 1.2020e+02, 6.5000e+01, 1.0000e-02,\n",
      "         6.1550e+01, 2.3870e+01, 1.0085e+02, 9.1250e+01, 3.2050e+01, 1.2546e+02,\n",
      "         1.7050e+01, 1.3300e+02, 8.1350e+01, 3.0000e-02, 8.9670e+01, 9.6000e+01,\n",
      "         1.1390e+01, 3.4400e+01, 5.1130e+01, 1.6007e+02, 5.6000e-01, 5.9000e+00,\n",
      "         1.2286e+02, 1.4182e+02]])\n"
     ]
    }
   ],
   "source": [
    "print(test_y_apple)"
   ]
  },
  {
   "cell_type": "code",
   "execution_count": 15,
   "metadata": {},
   "outputs": [
    {
     "name": "stdout",
     "output_type": "stream",
     "text": [
      "tensor(48.8345, grad_fn=<MeanBackward0>)\n"
     ]
    }
   ],
   "source": [
    "print(mean_squared_error(y_predict, test_y_apple))"
   ]
  },
  {
   "cell_type": "markdown",
   "metadata": {},
   "source": [
    "# Extra Step: Analysis of the model\n",
    "\n",
    "First, we will plot an image to roughly observe how the model fits on the test data set."
   ]
  },
  {
   "cell_type": "code",
   "execution_count": 16,
   "metadata": {},
   "outputs": [],
   "source": [
    "import matplotlib.pyplot as plt\n",
    "from mpl_toolkits.mplot3d import Axes3D\n",
    "import numpy as np"
   ]
  },
  {
   "cell_type": "code",
   "execution_count": 17,
   "metadata": {},
   "outputs": [
    {
     "data": {
      "image/png": "[encoded data removed]",
      "text/plain": [
       "<Figure size 640x480 with 1 Axes>"
      ]
     },
     "metadata": {},
     "output_type": "display_data"
    }
   ],
   "source": [
    "test_x_apple_np = test_x_apple.detach().numpy()\n",
    "test_y_apple_np = test_y_apple.detach().numpy()\n",
    "y_predict_np = y_predict.detach().numpy()\n",
    "\n",
    "fig = plt.figure()\n",
    "ax = fig.add_subplot(111, projection='3d')\n",
    "\n",
    "\n",
    "ax.scatter(test_x_apple_np[0], test_x_apple_np[1], test_y_apple_np, c='blue', marker='o', label='Actual Values')\n",
    "\n",
    "\n",
    "ax.scatter(test_x_apple_np[0], test_x_apple_np[1], y_predict_np, c='red', marker='x', label='Predicted Values')\n",
    "\n",
    "\n",
    "ax.set_xlabel('X axis')\n",
    "ax.set_ylabel('Y axis')\n",
    "ax.set_zlabel('Z axis')\n",
    "\n",
    "\n",
    "ax.legend()\n",
    "\n",
    "\n",
    "plt.show()"
   ]
  },
  {
   "cell_type": "markdown",
   "metadata": {},
   "source": [
    "We can observe that the predicted values of the data points are quite close to the actual values."
   ]
  },
  {
   "cell_type": "markdown",
   "metadata": {},
   "source": [
    "Next, let’s analyze the differences in the loss function exhibited by the model for different numbers of neurons."
   ]
  },
  {
   "cell_type": "markdown",
   "metadata": {},
   "source": [
    "First, we noticed an issue: during the model training process, we found that the loss function converges to a value that is not zero. We believe this is because this value represents the best result the model can achieve given the current structure. That is, it is limited by the model structure (in this case, the number of neurons). Additionally, the fitting target in our research direction (K, T) does not exhibit particularly strong patterns, so it cannot converge to zero."
   ]
  },
  {
   "cell_type": "code",
   "execution_count": 19,
   "metadata": {},
   "outputs": [
    {
     "name": "stdout",
     "output_type": "stream",
     "text": [
      "Epoch [1000/5000], Loss: 82.0593\n",
      "Epoch [2000/5000], Loss: 60.7902\n",
      "Epoch [3000/5000], Loss: 53.5727\n",
      "Epoch [4000/5000], Loss: 50.3834\n",
      "Epoch [5000/5000], Loss: 48.7720\n",
      "Optimization finished\n"
     ]
    },
    {
     "data": {
      "image/png": "[encoded data removed]",
      "text/plain": [
       "<Figure size 640x480 with 1 Axes>"
      ]
     },
     "metadata": {},
     "output_type": "display_data"
    }
   ],
   "source": [
    "import torch\n",
    "import torch.optim as optim\n",
    "import matplotlib.pyplot as plt\n",
    "\n",
    "# Hyperparameters\n",
    "H = 10\n",
    "input_dim = 2  # Input dimension\n",
    "\n",
    "# Initialize parameters\n",
    "V = torch.randn(H, 2, requires_grad=True, dtype=torch.float32)\n",
    "b = torch.randn(H, 2, requires_grad=True, dtype=torch.float32)\n",
    "w = torch.randn(H, requires_grad=True, dtype=torch.float32)\n",
    "w0 = torch.randn(1, requires_grad=True, dtype=torch.float32)\n",
    "\n",
    "# Optimizer\n",
    "optimizer = optim.Adam([V, b, w, w0], lr=0.01)\n",
    "\n",
    "# Training loop\n",
    "num_epochs = 5000\n",
    "losses = []\n",
    "\n",
    "for epoch in range(num_epochs):\n",
    "    optimizer.zero_grad()\n",
    "    \n",
    "    # Forward propagation\n",
    "    y_pred = forward_propagation(V, b, w, w0, train_x_apple)\n",
    "    \n",
    "    # Compute loss\n",
    "    loss = mean_squared_error(y_pred, train_y_apple)\n",
    "    \n",
    "    # Backward propagation and optimization\n",
    "    loss.backward()\n",
    "    optimizer.step()\n",
    "    \n",
    "    # Save loss value\n",
    "    losses.append(loss.item())\n",
    "    \n",
    "    # Print loss every 1000 iterations\n",
    "    if (epoch + 1) % 1000 == 0:\n",
    "        print(f'Epoch [{epoch + 1}/{num_epochs}], Loss: {loss.item():.4f}')\n",
    "\n",
    "print(\"Optimization finished\")\n",
    "\n",
    "# Plot loss vs. epochs\n",
    "plt.plot(range(num_epochs), losses)\n",
    "plt.xlabel('Epoch')\n",
    "plt.ylabel('Loss')\n",
    "plt.title('Loss vs. Epochs')\n",
    "plt.show()"
   ]
  },
  {
   "cell_type": "markdown",
   "metadata": {},
   "source": [
    "Finally, the table below shows the relationship between the number of neurons and the convergence results of the loss function."
   ]
  },
  {
   "cell_type": "markdown",
   "metadata": {},
   "source": [
    "| H     | Loss     |\n",
    "| :-----: | :-----: |\n",
    "| 1 | 64.7333|\n",
    "| 2 | 62.379 |\n",
    "| 3 | 45.1903 |\n",
    "| 4 |  45.0423 |\n",
    "| 5 | 44.711 |\n",
    "| 10 | 44.7529 |\n",
    "| 100 | 44.8589 |\n",
    "| 1000 | 41.4791 |"
   ]
  }
 ],
 "metadata": {
  "kernelspec": {
   "display_name": "Python3p8",
   "language": "python",
   "name": "python3"
  },
  "language_info": {
   "codemirror_mode": {
    "name": "ipython",
    "version": 3
   },
   "file_extension": ".py",
   "mimetype": "text/x-python",
   "name": "python",
   "nbconvert_exporter": "python",
   "pygments_lexer": "ipython3",
   "version": "3.8.19"
  }
 },
 "nbformat": 4,
 "nbformat_minor": 2
}
